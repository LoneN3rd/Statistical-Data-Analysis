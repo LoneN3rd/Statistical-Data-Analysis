{
  "nbformat": 4,
  "nbformat_minor": 0,
  "metadata": {
    "colab": {
      "name": "[Project] Statistical Data Analysis",
      "provenance": [],
      "collapsed_sections": [
        "a9BPYqunry97",
        "7KMRBJ7zr9HD",
        "odw2jRKS2bOF",
        "HPQviDmNtta8"
      ],
      "toc_visible": true
    },
    "kernelspec": {
      "display_name": "Python 3",
      "language": "python",
      "name": "python3"
    },
    "language_info": {
      "codemirror_mode": {
        "name": "ipython",
        "version": 3
      },
      "file_extension": ".py",
      "mimetype": "text/x-python",
      "name": "python",
      "nbconvert_exporter": "python",
      "pygments_lexer": "ipython3",
      "version": "3.7.4"
    }
  },
  "cells": [
    {
      "cell_type": "markdown",
      "metadata": {
        "id": "kLG2VTrnTvYL"
      },
      "source": [
        "## <font color='#2F4F4F'>1. Defining the Question</font>"
      ]
    },
    {
      "cell_type": "markdown",
      "metadata": {
        "id": "XecOwPNorl2W"
      },
      "source": [
        "#### The Data Analysis Question\n",
        "\n",
        "In this project, we will perform univariate and bivariate analysis in an effort to prepare data for modeling in the later stages."
      ]
    },
    {
      "cell_type": "markdown",
      "metadata": {
        "id": "J4wfHZwQrs-t"
      },
      "source": [
        "#### Defining the Metric for Success\n",
        "\n",
        "Creation of a model that that predicts whether a person has diabetics or not (in later stages), guided by the data analysis we'll be doing in this project."
      ]
    },
    {
      "cell_type": "markdown",
      "metadata": {
        "id": "a9BPYqunry97"
      },
      "source": [
        "#### Understanding the context \n",
        "\n",
        "The management of a certain NGO Hospital would like to have a product developed that would make predictions on whether a person has diabetics or not.\n",
        "\n",
        "The data were collected and made available by “National Institute of Diabetes and Digestive and Kidney Diseases” as part of the Pima Indians Diabetes Database. Several constraints were placed on the selection of these instances from a larger database. In particular, all patients here belong to the Pima Indian heritage (a subgroup of Native Americans) and are females of ages 21 and above."
      ]
    },
    {
      "cell_type": "markdown",
      "metadata": {
        "id": "7KMRBJ7zr9HD"
      },
      "source": [
        "#### Solution Steps\n",
        "\n",
        "* Data Cleaning\n",
        "* Data Preparation\n",
        "* Data Analysis"
      ]
    },
    {
      "cell_type": "markdown",
      "metadata": {
        "id": "iUNbvIvnT7ep"
      },
      "source": [
        "## <font color='#2F4F4F'>2. Data Cleaning & Preparation</font>"
      ]
    },
    {
      "cell_type": "markdown",
      "source": [
        "#### Import libraries"
      ],
      "metadata": {
        "id": "odw2jRKS2bOF"
      }
    },
    {
      "cell_type": "code",
      "metadata": {
        "id": "AMreDPhDZAbP"
      },
      "source": [
        "import pandas as pd\n",
        "import matplotlib.pyplot as plt\n",
        "import seaborn as sns"
      ],
      "execution_count": 1,
      "outputs": []
    },
    {
      "cell_type": "markdown",
      "source": [
        "#### Load dataset and preview"
      ],
      "metadata": {
        "id": "CicTGh6z2dhe"
      }
    },
    {
      "cell_type": "code",
      "metadata": {
        "id": "XJn2KjW-WMlG",
        "colab": {
          "base_uri": "https://localhost:8080/",
          "height": 143
        },
        "outputId": "efc99c34-8220-438b-ed4d-32878f3d9f6e"
      },
      "source": [
        "diabetes = pd.read_csv('/content/diabetes_data.csv')\n",
        "diabetes.sample(3)"
      ],
      "execution_count": 2,
      "outputs": [
        {
          "output_type": "execute_result",
          "data": {
            "text/plain": [
              "     Pregnancies  Glucose  BloodPressure  SkinThickness  Insulin   BMI  \\\n",
              "17             7      107             74              0        0  29.6   \n",
              "489            8      194             80              0        0  26.1   \n",
              "717           10       94             72             18        0  23.1   \n",
              "\n",
              "     DiabetesPedigreeFunction  Age  Outcome  \n",
              "17                      0.254   31        1  \n",
              "489                     0.551   67        0  \n",
              "717                     0.595   56        0  "
            ],
            "text/html": [
              "\n",
              "  <div id=\"df-7a4c0282-8b15-4b9e-882a-5eef8cdaa962\">\n",
              "    <div class=\"colab-df-container\">\n",
              "      <div>\n",
              "<style scoped>\n",
              "    .dataframe tbody tr th:only-of-type {\n",
              "        vertical-align: middle;\n",
              "    }\n",
              "\n",
              "    .dataframe tbody tr th {\n",
              "        vertical-align: top;\n",
              "    }\n",
              "\n",
              "    .dataframe thead th {\n",
              "        text-align: right;\n",
              "    }\n",
              "</style>\n",
              "<table border=\"1\" class=\"dataframe\">\n",
              "  <thead>\n",
              "    <tr style=\"text-align: right;\">\n",
              "      <th></th>\n",
              "      <th>Pregnancies</th>\n",
              "      <th>Glucose</th>\n",
              "      <th>BloodPressure</th>\n",
              "      <th>SkinThickness</th>\n",
              "      <th>Insulin</th>\n",
              "      <th>BMI</th>\n",
              "      <th>DiabetesPedigreeFunction</th>\n",
              "      <th>Age</th>\n",
              "      <th>Outcome</th>\n",
              "    </tr>\n",
              "  </thead>\n",
              "  <tbody>\n",
              "    <tr>\n",
              "      <th>17</th>\n",
              "      <td>7</td>\n",
              "      <td>107</td>\n",
              "      <td>74</td>\n",
              "      <td>0</td>\n",
              "      <td>0</td>\n",
              "      <td>29.6</td>\n",
              "      <td>0.254</td>\n",
              "      <td>31</td>\n",
              "      <td>1</td>\n",
              "    </tr>\n",
              "    <tr>\n",
              "      <th>489</th>\n",
              "      <td>8</td>\n",
              "      <td>194</td>\n",
              "      <td>80</td>\n",
              "      <td>0</td>\n",
              "      <td>0</td>\n",
              "      <td>26.1</td>\n",
              "      <td>0.551</td>\n",
              "      <td>67</td>\n",
              "      <td>0</td>\n",
              "    </tr>\n",
              "    <tr>\n",
              "      <th>717</th>\n",
              "      <td>10</td>\n",
              "      <td>94</td>\n",
              "      <td>72</td>\n",
              "      <td>18</td>\n",
              "      <td>0</td>\n",
              "      <td>23.1</td>\n",
              "      <td>0.595</td>\n",
              "      <td>56</td>\n",
              "      <td>0</td>\n",
              "    </tr>\n",
              "  </tbody>\n",
              "</table>\n",
              "</div>\n",
              "      <button class=\"colab-df-convert\" onclick=\"convertToInteractive('df-7a4c0282-8b15-4b9e-882a-5eef8cdaa962')\"\n",
              "              title=\"Convert this dataframe to an interactive table.\"\n",
              "              style=\"display:none;\">\n",
              "        \n",
              "  <svg xmlns=\"http://www.w3.org/2000/svg\" height=\"24px\"viewBox=\"0 0 24 24\"\n",
              "       width=\"24px\">\n",
              "    <path d=\"M0 0h24v24H0V0z\" fill=\"none\"/>\n",
              "    <path d=\"M18.56 5.44l.94 2.06.94-2.06 2.06-.94-2.06-.94-.94-2.06-.94 2.06-2.06.94zm-11 1L8.5 8.5l.94-2.06 2.06-.94-2.06-.94L8.5 2.5l-.94 2.06-2.06.94zm10 10l.94 2.06.94-2.06 2.06-.94-2.06-.94-.94-2.06-.94 2.06-2.06.94z\"/><path d=\"M17.41 7.96l-1.37-1.37c-.4-.4-.92-.59-1.43-.59-.52 0-1.04.2-1.43.59L10.3 9.45l-7.72 7.72c-.78.78-.78 2.05 0 2.83L4 21.41c.39.39.9.59 1.41.59.51 0 1.02-.2 1.41-.59l7.78-7.78 2.81-2.81c.8-.78.8-2.07 0-2.86zM5.41 20L4 18.59l7.72-7.72 1.47 1.35L5.41 20z\"/>\n",
              "  </svg>\n",
              "      </button>\n",
              "      \n",
              "  <style>\n",
              "    .colab-df-container {\n",
              "      display:flex;\n",
              "      flex-wrap:wrap;\n",
              "      gap: 12px;\n",
              "    }\n",
              "\n",
              "    .colab-df-convert {\n",
              "      background-color: #E8F0FE;\n",
              "      border: none;\n",
              "      border-radius: 50%;\n",
              "      cursor: pointer;\n",
              "      display: none;\n",
              "      fill: #1967D2;\n",
              "      height: 32px;\n",
              "      padding: 0 0 0 0;\n",
              "      width: 32px;\n",
              "    }\n",
              "\n",
              "    .colab-df-convert:hover {\n",
              "      background-color: #E2EBFA;\n",
              "      box-shadow: 0px 1px 2px rgba(60, 64, 67, 0.3), 0px 1px 3px 1px rgba(60, 64, 67, 0.15);\n",
              "      fill: #174EA6;\n",
              "    }\n",
              "\n",
              "    [theme=dark] .colab-df-convert {\n",
              "      background-color: #3B4455;\n",
              "      fill: #D2E3FC;\n",
              "    }\n",
              "\n",
              "    [theme=dark] .colab-df-convert:hover {\n",
              "      background-color: #434B5C;\n",
              "      box-shadow: 0px 1px 3px 1px rgba(0, 0, 0, 0.15);\n",
              "      filter: drop-shadow(0px 1px 2px rgba(0, 0, 0, 0.3));\n",
              "      fill: #FFFFFF;\n",
              "    }\n",
              "  </style>\n",
              "\n",
              "      <script>\n",
              "        const buttonEl =\n",
              "          document.querySelector('#df-7a4c0282-8b15-4b9e-882a-5eef8cdaa962 button.colab-df-convert');\n",
              "        buttonEl.style.display =\n",
              "          google.colab.kernel.accessAllowed ? 'block' : 'none';\n",
              "\n",
              "        async function convertToInteractive(key) {\n",
              "          const element = document.querySelector('#df-7a4c0282-8b15-4b9e-882a-5eef8cdaa962');\n",
              "          const dataTable =\n",
              "            await google.colab.kernel.invokeFunction('convertToInteractive',\n",
              "                                                     [key], {});\n",
              "          if (!dataTable) return;\n",
              "\n",
              "          const docLinkHtml = 'Like what you see? Visit the ' +\n",
              "            '<a target=\"_blank\" href=https://colab.research.google.com/notebooks/data_table.ipynb>data table notebook</a>'\n",
              "            + ' to learn more about interactive tables.';\n",
              "          element.innerHTML = '';\n",
              "          dataTable['output_type'] = 'display_data';\n",
              "          await google.colab.output.renderOutput(dataTable, element);\n",
              "          const docLink = document.createElement('div');\n",
              "          docLink.innerHTML = docLinkHtml;\n",
              "          element.appendChild(docLink);\n",
              "        }\n",
              "      </script>\n",
              "    </div>\n",
              "  </div>\n",
              "  "
            ]
          },
          "metadata": {},
          "execution_count": 2
        }
      ]
    },
    {
      "cell_type": "markdown",
      "source": [
        "#### Preview dataset shape"
      ],
      "metadata": {
        "id": "_WR42Rvr2lD-"
      }
    },
    {
      "cell_type": "code",
      "metadata": {
        "id": "D6g3-iURZAbq",
        "colab": {
          "base_uri": "https://localhost:8080/"
        },
        "outputId": "02b945d9-8542-4418-98ed-98a4e68aa47b"
      },
      "source": [
        "diabetes.shape"
      ],
      "execution_count": 3,
      "outputs": [
        {
          "output_type": "execute_result",
          "data": {
            "text/plain": [
              "(768, 9)"
            ]
          },
          "metadata": {},
          "execution_count": 3
        }
      ]
    },
    {
      "cell_type": "markdown",
      "source": [
        "#### Check for duplicates"
      ],
      "metadata": {
        "id": "RZSiE9Ta3SfM"
      }
    },
    {
      "cell_type": "code",
      "metadata": {
        "id": "wJUqDIg8ZAbu",
        "colab": {
          "base_uri": "https://localhost:8080/"
        },
        "outputId": "85edbddb-c2e6-481c-f132-120ea46addb3"
      },
      "source": [
        "diabetes.duplicated().sum()"
      ],
      "execution_count": 4,
      "outputs": [
        {
          "output_type": "execute_result",
          "data": {
            "text/plain": [
              "0"
            ]
          },
          "metadata": {},
          "execution_count": 4
        }
      ]
    },
    {
      "cell_type": "markdown",
      "source": [
        "#### Check for missing records"
      ],
      "metadata": {
        "id": "u7Y6IL0N3Wt1"
      }
    },
    {
      "cell_type": "code",
      "metadata": {
        "id": "7ehwywpWZAby",
        "colab": {
          "base_uri": "https://localhost:8080/"
        },
        "outputId": "54e615fb-82bd-499d-ab0f-f3a59e151647"
      },
      "source": [
        "diabetes.isnull().sum()"
      ],
      "execution_count": 5,
      "outputs": [
        {
          "output_type": "execute_result",
          "data": {
            "text/plain": [
              "Pregnancies                 0\n",
              "Glucose                     0\n",
              "BloodPressure               0\n",
              "SkinThickness               0\n",
              "Insulin                     0\n",
              "BMI                         0\n",
              "DiabetesPedigreeFunction    0\n",
              "Age                         0\n",
              "Outcome                     0\n",
              "dtype: int64"
            ]
          },
          "metadata": {},
          "execution_count": 5
        }
      ]
    },
    {
      "cell_type": "markdown",
      "source": [
        "#### Check the data types"
      ],
      "metadata": {
        "id": "ej1G8_Fk3yyY"
      }
    },
    {
      "cell_type": "code",
      "metadata": {
        "id": "_Hfd5Iw4ZAb1",
        "colab": {
          "base_uri": "https://localhost:8080/"
        },
        "outputId": "b4c33453-f3d7-4123-b179-5b030a70e16e"
      },
      "source": [
        "diabetes.dtypes"
      ],
      "execution_count": 6,
      "outputs": [
        {
          "output_type": "execute_result",
          "data": {
            "text/plain": [
              "Pregnancies                   int64\n",
              "Glucose                       int64\n",
              "BloodPressure                 int64\n",
              "SkinThickness                 int64\n",
              "Insulin                       int64\n",
              "BMI                         float64\n",
              "DiabetesPedigreeFunction    float64\n",
              "Age                           int64\n",
              "Outcome                       int64\n",
              "dtype: object"
            ]
          },
          "metadata": {},
          "execution_count": 6
        }
      ]
    },
    {
      "cell_type": "markdown",
      "source": [
        "#### Check for outliers"
      ],
      "metadata": {
        "id": "FggVpY1o3xKb"
      }
    },
    {
      "cell_type": "markdown",
      "source": [
        "Pregnancies"
      ],
      "metadata": {
        "id": "hUSTLk0t63CG"
      }
    },
    {
      "cell_type": "code",
      "metadata": {
        "id": "rLFc529BZAb8",
        "colab": {
          "base_uri": "https://localhost:8080/",
          "height": 334
        },
        "outputId": "b0ba8a4e-cd3a-4378-8b98-ba76f0ba73fb"
      },
      "source": [
        "sns.boxplot(diabetes[\"Pregnancies\"]);"
      ],
      "execution_count": 17,
      "outputs": [
        {
          "output_type": "stream",
          "name": "stderr",
          "text": [
            "/usr/local/lib/python3.7/dist-packages/seaborn/_decorators.py:43: FutureWarning: Pass the following variable as a keyword arg: x. From version 0.12, the only valid positional argument will be `data`, and passing other arguments without an explicit keyword will result in an error or misinterpretation.\n",
            "  FutureWarning\n"
          ]
        },
        {
          "output_type": "display_data",
          "data": {
            "text/plain": [
              "<Figure size 432x288 with 1 Axes>"
            ],
            "image/png": "[encoded data removed]"
          },
          "metadata": {
            "needs_background": "light"
          }
        }
      ]
    },
    {
      "cell_type": "markdown",
      "source": [
        "Glucose"
      ],
      "metadata": {
        "id": "7dJB8ZKE65sk"
      }
    },
    {
      "cell_type": "code",
      "source": [
        "sns.boxplot(diabetes[\"Glucose\"]);"
      ],
      "metadata": {
        "colab": {
          "base_uri": "https://localhost:8080/",
          "height": 334
        },
        "id": "7nw1YQnk37JR",
        "outputId": "88e031ef-af2c-4dfb-bf28-c1bf7909ad76"
      },
      "execution_count": 18,
      "outputs": [
        {
          "output_type": "stream",
          "name": "stderr",
          "text": [
            "/usr/local/lib/python3.7/dist-packages/seaborn/_decorators.py:43: FutureWarning: Pass the following variable as a keyword arg: x. From version 0.12, the only valid positional argument will be `data`, and passing other arguments without an explicit keyword will result in an error or misinterpretation.\n",
            "  FutureWarning\n"
          ]
        },
        {
          "output_type": "display_data",
          "data": {
            "text/plain": [
              "<Figure size 432x288 with 1 Axes>"
            ],
            "image/png": "[encoded data removed]"
          },
          "metadata": {
            "needs_background": "light"
          }
        }
      ]
    },
    {
      "cell_type": "markdown",
      "source": [
        "Blood Pressure"
      ],
      "metadata": {
        "id": "m9yt2pGo6_bs"
      }
    },
    {
      "cell_type": "code",
      "source": [
        "sns.boxplot(diabetes[\"BloodPressure\"]);"
      ],
      "metadata": {
        "colab": {
          "base_uri": "https://localhost:8080/",
          "height": 334
        },
        "id": "3-TsNoa93-3U",
        "outputId": "92bc78ab-6f26-401e-f2c2-510de358a040"
      },
      "execution_count": 14,
      "outputs": [
        {
          "output_type": "stream",
          "name": "stderr",
          "text": [
            "/usr/local/lib/python3.7/dist-packages/seaborn/_decorators.py:43: FutureWarning: Pass the following variable as a keyword arg: x. From version 0.12, the only valid positional argument will be `data`, and passing other arguments without an explicit keyword will result in an error or misinterpretation.\n",
            "  FutureWarning\n"
          ]
        },
        {
          "output_type": "display_data",
          "data": {
            "text/plain": [
              "<Figure size 432x288 with 1 Axes>"
            ],
            "image/png": "[encoded data removed]"
          },
          "metadata": {
            "needs_background": "light"
          }
        }
      ]
    },
    {
      "cell_type": "markdown",
      "source": [
        "Skin Thickness"
      ],
      "metadata": {
        "id": "9ypr06y27CL_"
      }
    },
    {
      "cell_type": "code",
      "source": [
        "sns.boxplot(diabetes[\"SkinThickness\"]);"
      ],
      "metadata": {
        "colab": {
          "base_uri": "https://localhost:8080/",
          "height": 334
        },
        "id": "NZpk4WzC4CHQ",
        "outputId": "8fb91c6d-f42d-4441-afc9-f26623f9110f"
      },
      "execution_count": 19,
      "outputs": [
        {
          "output_type": "stream",
          "name": "stderr",
          "text": [
            "/usr/local/lib/python3.7/dist-packages/seaborn/_decorators.py:43: FutureWarning: Pass the following variable as a keyword arg: x. From version 0.12, the only valid positional argument will be `data`, and passing other arguments without an explicit keyword will result in an error or misinterpretation.\n",
            "  FutureWarning\n"
          ]
        },
        {
          "output_type": "display_data",
          "data": {
            "text/plain": [
              "<Figure size 432x288 with 1 Axes>"
            ],
            "image/png": "[encoded data removed]"
          },
          "metadata": {
            "needs_background": "light"
          }
        }
      ]
    },
    {
      "cell_type": "markdown",
      "source": [
        "Insulin"
      ],
      "metadata": {
        "id": "kiaazuHU7I5p"
      }
    },
    {
      "cell_type": "code",
      "source": [
        "sns.boxplot(diabetes[\"Insulin\"]);"
      ],
      "metadata": {
        "colab": {
          "base_uri": "https://localhost:8080/",
          "height": 334
        },
        "id": "ACP7S6yL4Elf",
        "outputId": "eeed87b2-1e45-47de-f5f7-581f6321e3f5"
      },
      "execution_count": 20,
      "outputs": [
        {
          "output_type": "stream",
          "name": "stderr",
          "text": [
            "/usr/local/lib/python3.7/dist-packages/seaborn/_decorators.py:43: FutureWarning: Pass the following variable as a keyword arg: x. From version 0.12, the only valid positional argument will be `data`, and passing other arguments without an explicit keyword will result in an error or misinterpretation.\n",
            "  FutureWarning\n"
          ]
        },
        {
          "output_type": "display_data",
          "data": {
            "text/plain": [
              "<Figure size 432x288 with 1 Axes>"
            ],
            "image/png": "[encoded data removed]"
          },
          "metadata": {
            "needs_background": "light"
          }
        }
      ]
    },
    {
      "cell_type": "markdown",
      "source": [
        "BMI"
      ],
      "metadata": {
        "id": "6O6oRKxY7LQG"
      }
    },
    {
      "cell_type": "code",
      "source": [
        "sns.boxplot(diabetes[\"BMI\"]);"
      ],
      "metadata": {
        "colab": {
          "base_uri": "https://localhost:8080/",
          "height": 334
        },
        "id": "QgZj1Wgi4GEb",
        "outputId": "d7c25ff3-3b39-4eeb-ee6a-a9839dba4b64"
      },
      "execution_count": 21,
      "outputs": [
        {
          "output_type": "stream",
          "name": "stderr",
          "text": [
            "/usr/local/lib/python3.7/dist-packages/seaborn/_decorators.py:43: FutureWarning: Pass the following variable as a keyword arg: x. From version 0.12, the only valid positional argument will be `data`, and passing other arguments without an explicit keyword will result in an error or misinterpretation.\n",
            "  FutureWarning\n"
          ]
        },
        {
          "output_type": "display_data",
          "data": {
            "text/plain": [
              "<Figure size 432x288 with 1 Axes>"
            ],
            "image/png": "[encoded data removed]"
          },
          "metadata": {
            "needs_background": "light"
          }
        }
      ]
    },
    {
      "cell_type": "markdown",
      "source": [
        "Diabetes Pedigree Function"
      ],
      "metadata": {
        "id": "HJmgOwA17P6K"
      }
    },
    {
      "cell_type": "code",
      "source": [
        "sns.boxplot(diabetes[\"DiabetesPedigreeFunction\"]);"
      ],
      "metadata": {
        "colab": {
          "base_uri": "https://localhost:8080/",
          "height": 334
        },
        "id": "IFR7-51u4Hg4",
        "outputId": "9e89e42f-e018-4178-eb82-627b9f91ddf2"
      },
      "execution_count": 22,
      "outputs": [
        {
          "output_type": "stream",
          "name": "stderr",
          "text": [
            "/usr/local/lib/python3.7/dist-packages/seaborn/_decorators.py:43: FutureWarning: Pass the following variable as a keyword arg: x. From version 0.12, the only valid positional argument will be `data`, and passing other arguments without an explicit keyword will result in an error or misinterpretation.\n",
            "  FutureWarning\n"
          ]
        },
        {
          "output_type": "display_data",
          "data": {
            "text/plain": [
              "<Figure size 432x288 with 1 Axes>"
            ],
            "image/png": "[encoded data removed]"
          },
          "metadata": {
            "needs_background": "light"
          }
        }
      ]
    },
    {
      "cell_type": "markdown",
      "source": [
        "Age"
      ],
      "metadata": {
        "id": "jw1ush817R3w"
      }
    },
    {
      "cell_type": "code",
      "source": [
        "sns.boxplot(diabetes[\"Age\"]);"
      ],
      "metadata": {
        "colab": {
          "base_uri": "https://localhost:8080/",
          "height": 334
        },
        "id": "6y_089wA4KKv",
        "outputId": "38160316-dab1-400f-cb34-cbb9bb2b5ab8"
      },
      "execution_count": 23,
      "outputs": [
        {
          "output_type": "stream",
          "name": "stderr",
          "text": [
            "/usr/local/lib/python3.7/dist-packages/seaborn/_decorators.py:43: FutureWarning: Pass the following variable as a keyword arg: x. From version 0.12, the only valid positional argument will be `data`, and passing other arguments without an explicit keyword will result in an error or misinterpretation.\n",
            "  FutureWarning\n"
          ]
        },
        {
          "output_type": "display_data",
          "data": {
            "text/plain": [
              "<Figure size 432x288 with 1 Axes>"
            ],
            "image/png": "[encoded data removed]"
          },
          "metadata": {
            "needs_background": "light"
          }
        }
      ]
    },
    {
      "cell_type": "markdown",
      "source": [
        "Outcome"
      ],
      "metadata": {
        "id": "mwHFMoC67Wc5"
      }
    },
    {
      "cell_type": "code",
      "source": [
        "sns.boxplot(diabetes[\"Outcome\"]);"
      ],
      "metadata": {
        "colab": {
          "base_uri": "https://localhost:8080/",
          "height": 334
        },
        "id": "ljm8T2Q_4LPw",
        "outputId": "29e770b6-42ee-49dc-c7a7-a3a1755ee5a5"
      },
      "execution_count": 24,
      "outputs": [
        {
          "output_type": "stream",
          "name": "stderr",
          "text": [
            "/usr/local/lib/python3.7/dist-packages/seaborn/_decorators.py:43: FutureWarning: Pass the following variable as a keyword arg: x. From version 0.12, the only valid positional argument will be `data`, and passing other arguments without an explicit keyword will result in an error or misinterpretation.\n",
            "  FutureWarning\n"
          ]
        },
        {
          "output_type": "display_data",
          "data": {
            "text/plain": [
              "<Figure size 432x288 with 1 Axes>"
            ],
            "image/png": "[encoded data removed]"
          },
          "metadata": {
            "needs_background": "light"
          }
        }
      ]
    },
    {
      "cell_type": "markdown",
      "metadata": {
        "id": "xvs-X851ZAb_"
      },
      "source": [
        "## <font color='#2F4F4F'>3. Data Analysis</font>"
      ]
    },
    {
      "cell_type": "markdown",
      "metadata": {
        "id": "pSm8G5AsZAcA"
      },
      "source": [
        "### 3.1 General Analysis"
      ]
    },
    {
      "cell_type": "markdown",
      "source": [
        "#### Distribution of Pregnancies"
      ],
      "metadata": {
        "id": "z2Im9K8I7fUo"
      }
    },
    {
      "cell_type": "code",
      "metadata": {
        "id": "1ppD3jdkZAcB",
        "colab": {
          "base_uri": "https://localhost:8080/",
          "height": 350
        },
        "outputId": "67779a7b-c6bc-48de-8aa0-3360ddc6bce9"
      },
      "source": [
        "fig, axes = plt.subplots(nrows = 1, ncols = 2, figsize = (12, 4))\n",
        "\n",
        "plt.subplot(1, 2, 1)\n",
        "diabetes.Pregnancies.hist(color = '#ff7f0e')\n",
        "plt.title('Histogram of Pregnancies')\n",
        "\n",
        "plt.subplot(1, 2, 2)\n",
        "sns.boxplot(diabetes.Pregnancies, color = '#9467bd')\n",
        "plt.title('Box plot of Pregnancies')\n",
        "\n",
        "plt.show()"
      ],
      "execution_count": 25,
      "outputs": [
        {
          "output_type": "stream",
          "name": "stderr",
          "text": [
            "/usr/local/lib/python3.7/dist-packages/seaborn/_decorators.py:43: FutureWarning: Pass the following variable as a keyword arg: x. From version 0.12, the only valid positional argument will be `data`, and passing other arguments without an explicit keyword will result in an error or misinterpretation.\n",
            "  FutureWarning\n"
          ]
        },
        {
          "output_type": "display_data",
          "data": {
            "text/plain": [
              "<Figure size 864x288 with 2 Axes>"
            ],
            "image/png": "[encoded data removed]"
          },
          "metadata": {
            "needs_background": "light"
          }
        }
      ]
    },
    {
      "cell_type": "markdown",
      "source": [
        "#### Summary statistics of Pregnancies"
      ],
      "metadata": {
        "id": "OSbrQdCH7qG1"
      }
    },
    {
      "cell_type": "code",
      "metadata": {
        "id": "X8yE4EwKZAcP",
        "colab": {
          "base_uri": "https://localhost:8080/"
        },
        "outputId": "45c355e1-8d88-48fd-d79c-4a68de18466a"
      },
      "source": [
        "diabetes.Pregnancies.describe()"
      ],
      "execution_count": 26,
      "outputs": [
        {
          "output_type": "execute_result",
          "data": {
            "text/plain": [
              "count    768.000000\n",
              "mean       3.845052\n",
              "std        3.369578\n",
              "min        0.000000\n",
              "25%        1.000000\n",
              "50%        3.000000\n",
              "75%        6.000000\n",
              "max       17.000000\n",
              "Name: Pregnancies, dtype: float64"
            ]
          },
          "metadata": {},
          "execution_count": 26
        }
      ]
    },
    {
      "cell_type": "markdown",
      "metadata": {
        "id": "fPpMNHkiZAcY"
      },
      "source": [
        "####  **Observations** about the Pregnancies variable\n",
        "\n",
        "> 1. The median for pregnanacies is 3.0\n",
        "2. The maximum recorded pregnancies is 17 and the minimum is 0\n",
        "3. 75% of pregnancies was above 6 and 25% was below 1"
      ]
    },
    {
      "cell_type": "markdown",
      "source": [
        "#### Distribution of Glucose"
      ],
      "metadata": {
        "id": "Giyu2MZoHCQc"
      }
    },
    {
      "cell_type": "code",
      "metadata": {
        "id": "cY1vqvh2ZAce",
        "colab": {
          "base_uri": "https://localhost:8080/",
          "height": 350
        },
        "outputId": "5dae68c9-fc03-43af-f4ba-fe4aeb095160"
      },
      "source": [
        "fig, axes = plt.subplots(nrows = 1, ncols = 2, figsize = (12, 4))\n",
        "\n",
        "plt.subplot(1, 2, 1)\n",
        "diabetes.Glucose.hist(color = '#ff7f0e')\n",
        "plt.title('Histogram of Glucose')\n",
        "\n",
        "plt.subplot(1, 2, 2)\n",
        "sns.boxplot(diabetes.Glucose, color = '#9467bd')\n",
        "plt.title('Box plot of Glucose')\n",
        "\n",
        "plt.show()"
      ],
      "execution_count": 31,
      "outputs": [
        {
          "output_type": "stream",
          "name": "stderr",
          "text": [
            "/usr/local/lib/python3.7/dist-packages/seaborn/_decorators.py:43: FutureWarning: Pass the following variable as a keyword arg: x. From version 0.12, the only valid positional argument will be `data`, and passing other arguments without an explicit keyword will result in an error or misinterpretation.\n",
            "  FutureWarning\n"
          ]
        },
        {
          "output_type": "display_data",
          "data": {
            "text/plain": [
              "<Figure size 864x288 with 2 Axes>"
            ],
            "image/png": "[encoded data removed]"
          },
          "metadata": {
            "needs_background": "light"
          }
        }
      ]
    },
    {
      "cell_type": "markdown",
      "source": [
        "#### Summary statistics of Glucose"
      ],
      "metadata": {
        "id": "xJb-c9LbHPoN"
      }
    },
    {
      "cell_type": "code",
      "metadata": {
        "id": "xfKKayNNZAcj",
        "colab": {
          "base_uri": "https://localhost:8080/"
        },
        "outputId": "3041c8df-6d04-42b3-b33e-626744317106"
      },
      "source": [
        "diabetes.Glucose.describe()"
      ],
      "execution_count": 34,
      "outputs": [
        {
          "output_type": "execute_result",
          "data": {
            "text/plain": [
              "count    768.000000\n",
              "mean     120.894531\n",
              "std       31.972618\n",
              "min        0.000000\n",
              "25%       99.000000\n",
              "50%      117.000000\n",
              "75%      140.250000\n",
              "max      199.000000\n",
              "Name: Glucose, dtype: float64"
            ]
          },
          "metadata": {},
          "execution_count": 34
        }
      ]
    },
    {
      "cell_type": "markdown",
      "metadata": {
        "id": "Is9kHxAGHZYI"
      },
      "source": [
        "####  **Observations** about the Glucose variable\n",
        "\n",
        "> 1. The median for Glucose is 117.0\n",
        "2. The maximum recorded for Glucose patients is 199 and the minimum is 0\n",
        "3. 75% of the Glucose patients was above 140 and 25% was below 99"
      ]
    },
    {
      "cell_type": "markdown",
      "source": [
        "####  Distribution of Blood Pressure"
      ],
      "metadata": {
        "id": "AabtRWHMJxGn"
      }
    },
    {
      "cell_type": "code",
      "metadata": {
        "id": "zVUfjFBhZAcv",
        "colab": {
          "base_uri": "https://localhost:8080/",
          "height": 350
        },
        "outputId": "8d450fb2-8176-4e0d-fb82-bd44deb87785"
      },
      "source": [
        "fig, axes = plt.subplots(nrows = 1, ncols = 2, figsize = (12, 4))\n",
        "\n",
        "plt.subplot(1, 2, 1)\n",
        "diabetes.BloodPressure.hist(color = '#ff7f0e')\n",
        "plt.title('Histogram of Blood Pressure')\n",
        "\n",
        "plt.subplot(1, 2, 2)\n",
        "sns.boxplot(diabetes.BloodPressure, color = '#9467bd')\n",
        "plt.title('Box plot of Blood Pressure')\n",
        "\n",
        "plt.show()"
      ],
      "execution_count": 38,
      "outputs": [
        {
          "output_type": "stream",
          "name": "stderr",
          "text": [
            "/usr/local/lib/python3.7/dist-packages/seaborn/_decorators.py:43: FutureWarning: Pass the following variable as a keyword arg: x. From version 0.12, the only valid positional argument will be `data`, and passing other arguments without an explicit keyword will result in an error or misinterpretation.\n",
            "  FutureWarning\n"
          ]
        },
        {
          "output_type": "display_data",
          "data": {
            "text/plain": [
              "<Figure size 864x288 with 2 Axes>"
            ],
            "image/png": "[encoded data removed]"
          },
          "metadata": {
            "needs_background": "light"
          }
        }
      ]
    },
    {
      "cell_type": "markdown",
      "source": [
        "####  Summary statistics of Blood Pressure"
      ],
      "metadata": {
        "id": "I96yqYV-KCyO"
      }
    },
    {
      "cell_type": "code",
      "metadata": {
        "id": "p6_BfRIIZAcz",
        "colab": {
          "base_uri": "https://localhost:8080/"
        },
        "outputId": "91141fd9-8a3d-4a36-d243-7656123299f2"
      },
      "source": [
        "diabetes.BloodPressure.describe()"
      ],
      "execution_count": 39,
      "outputs": [
        {
          "output_type": "execute_result",
          "data": {
            "text/plain": [
              "count    768.000000\n",
              "mean      69.105469\n",
              "std       19.355807\n",
              "min        0.000000\n",
              "25%       62.000000\n",
              "50%       72.000000\n",
              "75%       80.000000\n",
              "max      122.000000\n",
              "Name: BloodPressure, dtype: float64"
            ]
          },
          "metadata": {},
          "execution_count": 39
        }
      ]
    },
    {
      "cell_type": "markdown",
      "metadata": {
        "id": "wxbffK-VKFq4"
      },
      "source": [
        "####  **Observations** about the BloodPressure variable\n",
        "\n",
        "> 1. The median for Blood Pressure is 72.0\n",
        "2. The maximum recorded for BloodPressure is 122 and the minimum is 0\n",
        "3. 75% of BloodPressure was above 80 and 25% was below 62"
      ]
    },
    {
      "cell_type": "markdown",
      "source": [
        "####  Distribution of Skin Thickness"
      ],
      "metadata": {
        "id": "q3JShrsTMHU0"
      }
    },
    {
      "cell_type": "code",
      "metadata": {
        "id": "xXqEyOlvZAc9",
        "colab": {
          "base_uri": "https://localhost:8080/",
          "height": 350
        },
        "outputId": "fb1e7215-6dd3-4820-8a5c-925f621bc775"
      },
      "source": [
        "fig, axes = plt.subplots(nrows = 1, ncols = 2, figsize = (12, 4))\n",
        "\n",
        "plt.subplot(1, 2, 1)\n",
        "diabetes.SkinThickness.hist(color = '#ff7f0e')\n",
        "plt.title('Histogram of Skin Thickness')\n",
        "\n",
        "plt.subplot(1, 2, 2)\n",
        "sns.boxplot(diabetes.SkinThickness, color = '#9467bd')\n",
        "plt.title('Box plot of Skin Thickness')\n",
        "\n",
        "plt.show()"
      ],
      "execution_count": 43,
      "outputs": [
        {
          "output_type": "stream",
          "name": "stderr",
          "text": [
            "/usr/local/lib/python3.7/dist-packages/seaborn/_decorators.py:43: FutureWarning: Pass the following variable as a keyword arg: x. From version 0.12, the only valid positional argument will be `data`, and passing other arguments without an explicit keyword will result in an error or misinterpretation.\n",
            "  FutureWarning\n"
          ]
        },
        {
          "output_type": "display_data",
          "data": {
            "text/plain": [
              "<Figure size 864x288 with 2 Axes>"
            ],
            "image/png": "[encoded data removed]"
          },
          "metadata": {
            "needs_background": "light"
          }
        }
      ]
    },
    {
      "cell_type": "markdown",
      "source": [
        "####  Summary statistics of Skin Thickness"
      ],
      "metadata": {
        "id": "N4KkC_VeMXe_"
      }
    },
    {
      "cell_type": "code",
      "metadata": {
        "id": "CsgtvCAnZAdB",
        "colab": {
          "base_uri": "https://localhost:8080/"
        },
        "outputId": "677c151e-8074-4be7-bd8f-e23e200077ea"
      },
      "source": [
        "diabetes.SkinThickness.describe()"
      ],
      "execution_count": 44,
      "outputs": [
        {
          "output_type": "execute_result",
          "data": {
            "text/plain": [
              "count    768.000000\n",
              "mean      20.536458\n",
              "std       15.952218\n",
              "min        0.000000\n",
              "25%        0.000000\n",
              "50%       23.000000\n",
              "75%       32.000000\n",
              "max       99.000000\n",
              "Name: SkinThickness, dtype: float64"
            ]
          },
          "metadata": {},
          "execution_count": 44
        }
      ]
    },
    {
      "cell_type": "markdown",
      "metadata": {
        "id": "ewzXECoTL9_t"
      },
      "source": [
        "####  **Observations** about the SkinThickness variable\n",
        "\n",
        "> 1. The median for Skin Thickness is 23.0\n",
        "2. The maximum recorded for SkinThickness is 99 and the minimum is 0\n",
        "3. 75% of SkinThickness was above 32 and 25% was at 0"
      ]
    },
    {
      "cell_type": "markdown",
      "source": [
        "####  Distribution of Insulin"
      ],
      "metadata": {
        "id": "Oqhp4Db3M9CU"
      }
    },
    {
      "cell_type": "code",
      "metadata": {
        "id": "II8w8PDnZAdI",
        "colab": {
          "base_uri": "https://localhost:8080/",
          "height": 350
        },
        "outputId": "f6baba92-b9dc-4d1e-c2dd-3ec4b58c2979"
      },
      "source": [
        "fig, axes = plt.subplots(nrows = 1, ncols = 2, figsize = (12, 4))\n",
        "\n",
        "plt.subplot(1, 2, 1)\n",
        "diabetes.Insulin.hist(color = '#ff7f0e')\n",
        "plt.title('Histogram of Insulin')\n",
        "\n",
        "plt.subplot(1, 2, 2)\n",
        "sns.boxplot(diabetes.Insulin, color = '#9467bd')\n",
        "plt.title('Box plot of Insulin')\n",
        "\n",
        "plt.show()"
      ],
      "execution_count": 48,
      "outputs": [
        {
          "output_type": "stream",
          "name": "stderr",
          "text": [
            "/usr/local/lib/python3.7/dist-packages/seaborn/_decorators.py:43: FutureWarning: Pass the following variable as a keyword arg: x. From version 0.12, the only valid positional argument will be `data`, and passing other arguments without an explicit keyword will result in an error or misinterpretation.\n",
            "  FutureWarning\n"
          ]
        },
        {
          "output_type": "display_data",
          "data": {
            "text/plain": [
              "<Figure size 864x288 with 2 Axes>"
            ],
            "image/png": "[encoded data removed]"
          },
          "metadata": {
            "needs_background": "light"
          }
        }
      ]
    },
    {
      "cell_type": "markdown",
      "source": [
        "####  Summary statistics of Insulin"
      ],
      "metadata": {
        "id": "x5_iHJlLNEhG"
      }
    },
    {
      "cell_type": "code",
      "metadata": {
        "id": "jIGBJ72zZAdM",
        "colab": {
          "base_uri": "https://localhost:8080/"
        },
        "outputId": "0a150785-8957-4f0a-c913-de3e2992cec3"
      },
      "source": [
        "diabetes.Insulin.describe()"
      ],
      "execution_count": 49,
      "outputs": [
        {
          "output_type": "execute_result",
          "data": {
            "text/plain": [
              "count    768.000000\n",
              "mean      79.799479\n",
              "std      115.244002\n",
              "min        0.000000\n",
              "25%        0.000000\n",
              "50%       30.500000\n",
              "75%      127.250000\n",
              "max      846.000000\n",
              "Name: Insulin, dtype: float64"
            ]
          },
          "metadata": {},
          "execution_count": 49
        }
      ]
    },
    {
      "cell_type": "markdown",
      "metadata": {
        "id": "JbrWQ47uNM8T"
      },
      "source": [
        "####  **Observations** about the Insulin variable\n",
        "\n",
        "> 1. The median for Insulin is 30.5\n",
        "2. The maximum recorded for Insulin is 846 and the minimum is 0\n",
        "3. 75% of Insulin was above 127 and 25% was at 0"
      ]
    },
    {
      "cell_type": "markdown",
      "source": [
        "####  Distribution of BMI"
      ],
      "metadata": {
        "id": "9-cJq3RjQC2o"
      }
    },
    {
      "cell_type": "code",
      "metadata": {
        "id": "Rofh9sMEZAdV",
        "colab": {
          "base_uri": "https://localhost:8080/",
          "height": 350
        },
        "outputId": "bbd4c1f9-b633-4930-8af7-a7090fa43d1c"
      },
      "source": [
        "fig, axes = plt.subplots(nrows = 1, ncols = 2, figsize = (12, 4))\n",
        "\n",
        "plt.subplot(1, 2, 1)\n",
        "diabetes.BMI.hist(color = '#ff7f0e')\n",
        "plt.title('Histogram of BMI')\n",
        "\n",
        "plt.subplot(1, 2, 2)\n",
        "sns.boxplot(diabetes.BMI, color = '#9467bd')\n",
        "plt.title('Box plot of BMI')\n",
        "\n",
        "plt.show()"
      ],
      "execution_count": 54,
      "outputs": [
        {
          "output_type": "stream",
          "name": "stderr",
          "text": [
            "/usr/local/lib/python3.7/dist-packages/seaborn/_decorators.py:43: FutureWarning: Pass the following variable as a keyword arg: x. From version 0.12, the only valid positional argument will be `data`, and passing other arguments without an explicit keyword will result in an error or misinterpretation.\n",
            "  FutureWarning\n"
          ]
        },
        {
          "output_type": "display_data",
          "data": {
            "text/plain": [
              "<Figure size 864x288 with 2 Axes>"
            ],
            "image/png": "[encoded data removed]"
          },
          "metadata": {
            "needs_background": "light"
          }
        }
      ]
    },
    {
      "cell_type": "markdown",
      "source": [
        "####  Summary statistics of BMI"
      ],
      "metadata": {
        "id": "qSOCR4oCQNoH"
      }
    },
    {
      "cell_type": "code",
      "metadata": {
        "id": "XGHN1uQZZAdb",
        "colab": {
          "base_uri": "https://localhost:8080/"
        },
        "outputId": "f5c3a765-c56d-49e2-836f-dc2a22236234"
      },
      "source": [
        "diabetes.BMI.describe()"
      ],
      "execution_count": 55,
      "outputs": [
        {
          "output_type": "execute_result",
          "data": {
            "text/plain": [
              "count    768.000000\n",
              "mean      31.992578\n",
              "std        7.884160\n",
              "min        0.000000\n",
              "25%       27.300000\n",
              "50%       32.000000\n",
              "75%       36.600000\n",
              "max       67.100000\n",
              "Name: BMI, dtype: float64"
            ]
          },
          "metadata": {},
          "execution_count": 55
        }
      ]
    },
    {
      "cell_type": "markdown",
      "metadata": {
        "id": "V4LatREFQY_h"
      },
      "source": [
        "####  **Observations** about the BMI variable\n",
        "\n",
        "> 1. The median for BMI is 32\n",
        "2. The maximum recorded for BMI is 67 and the minimum is 0\n",
        "3. 75% of BMI was above 36 and 25% was below 27"
      ]
    },
    {
      "cell_type": "markdown",
      "source": [
        "#### Distribution of Diabetes Pedigree Function"
      ],
      "metadata": {
        "id": "PnHXnSFFQwT0"
      }
    },
    {
      "cell_type": "code",
      "metadata": {
        "id": "OT1xGAOtZAdl",
        "colab": {
          "base_uri": "https://localhost:8080/",
          "height": 350
        },
        "outputId": "56685d8a-8a58-43c4-e6c4-ce46357a3278"
      },
      "source": [
        "fig, axes = plt.subplots(nrows = 1, ncols = 2, figsize = (12, 4))\n",
        "\n",
        "plt.subplot(1, 2, 1)\n",
        "diabetes.DiabetesPedigreeFunction.hist(color = '#ff7f0e')\n",
        "plt.title('Histogram of Diabetes Pedigree Function')\n",
        "\n",
        "plt.subplot(1, 2, 2)\n",
        "sns.boxplot(diabetes.DiabetesPedigreeFunction, color = '#9467bd')\n",
        "plt.title('Box plot of Diabetes Pedigree Function')\n",
        "\n",
        "plt.show()"
      ],
      "execution_count": 58,
      "outputs": [
        {
          "output_type": "stream",
          "name": "stderr",
          "text": [
            "/usr/local/lib/python3.7/dist-packages/seaborn/_decorators.py:43: FutureWarning: Pass the following variable as a keyword arg: x. From version 0.12, the only valid positional argument will be `data`, and passing other arguments without an explicit keyword will result in an error or misinterpretation.\n",
            "  FutureWarning\n"
          ]
        },
        {
          "output_type": "display_data",
          "data": {
            "text/plain": [
              "<Figure size 864x288 with 2 Axes>"
            ],
            "image/png": "[encoded data removed]"
          },
          "metadata": {
            "needs_background": "light"
          }
        }
      ]
    },
    {
      "cell_type": "markdown",
      "source": [
        "#### Summary statistics of Diabetes Pedigree Function"
      ],
      "metadata": {
        "id": "XC_MjKd4RBgJ"
      }
    },
    {
      "cell_type": "code",
      "metadata": {
        "id": "L8OBUCJqZAdo",
        "colab": {
          "base_uri": "https://localhost:8080/"
        },
        "outputId": "b7376e00-cb41-4c47-a0a2-070e6c57bfc5"
      },
      "source": [
        "diabetes.DiabetesPedigreeFunction.describe()"
      ],
      "execution_count": 59,
      "outputs": [
        {
          "output_type": "execute_result",
          "data": {
            "text/plain": [
              "count    768.000000\n",
              "mean       0.471876\n",
              "std        0.331329\n",
              "min        0.078000\n",
              "25%        0.243750\n",
              "50%        0.372500\n",
              "75%        0.626250\n",
              "max        2.420000\n",
              "Name: DiabetesPedigreeFunction, dtype: float64"
            ]
          },
          "metadata": {},
          "execution_count": 59
        }
      ]
    },
    {
      "cell_type": "markdown",
      "metadata": {
        "id": "YeBWS1GqRpu2"
      },
      "source": [
        "####  **Observations** about the DiabetesPedigreeFunction variable\n",
        "\n",
        "> 1. The median for DiabetesPedigreeFunction is 0.3\n",
        "2. The maximum recorded for DiabetesPedigreeFunction is 2.4 and the minimum is 0\n",
        "3. 75% of DiabetesPedigreeFunction was above 0.7 and 25% was below 0.25"
      ]
    },
    {
      "cell_type": "markdown",
      "source": [
        "#### Distribution of Age"
      ],
      "metadata": {
        "id": "qHZCNJVkSfz_"
      }
    },
    {
      "cell_type": "code",
      "metadata": {
        "id": "BpRC_5DKZAdy",
        "colab": {
          "base_uri": "https://localhost:8080/",
          "height": 350
        },
        "outputId": "9039f48d-0695-499f-f004-40688d8ac94c"
      },
      "source": [
        "fig, axes = plt.subplots(nrows = 1, ncols = 2, figsize = (12, 4))\n",
        "\n",
        "plt.subplot(1, 2, 1)\n",
        "diabetes.Age.hist(color = '#ff7f0e')\n",
        "plt.title('Histogram of Age')\n",
        "\n",
        "plt.subplot(1, 2, 2)\n",
        "sns.boxplot(diabetes.Age, color = '#9467bd')\n",
        "plt.title('Box plot of Age')\n",
        "\n",
        "plt.show()"
      ],
      "execution_count": 67,
      "outputs": [
        {
          "output_type": "stream",
          "name": "stderr",
          "text": [
            "/usr/local/lib/python3.7/dist-packages/seaborn/_decorators.py:43: FutureWarning: Pass the following variable as a keyword arg: x. From version 0.12, the only valid positional argument will be `data`, and passing other arguments without an explicit keyword will result in an error or misinterpretation.\n",
            "  FutureWarning\n"
          ]
        },
        {
          "output_type": "display_data",
          "data": {
            "text/plain": [
              "<Figure size 864x288 with 2 Axes>"
            ],
            "image/png": "[encoded data removed]"
          },
          "metadata": {
            "needs_background": "light"
          }
        }
      ]
    },
    {
      "cell_type": "markdown",
      "source": [
        "#### Summary statistics of Age"
      ],
      "metadata": {
        "id": "UmhwZ3YDSq-O"
      }
    },
    {
      "cell_type": "code",
      "metadata": {
        "id": "w3hJyT8XZAd9",
        "colab": {
          "base_uri": "https://localhost:8080/"
        },
        "outputId": "8cdf58ac-e940-49a1-972a-39707e0e8500"
      },
      "source": [
        "diabetes.Age.describe()"
      ],
      "execution_count": 68,
      "outputs": [
        {
          "output_type": "execute_result",
          "data": {
            "text/plain": [
              "count    768.000000\n",
              "mean      33.240885\n",
              "std       11.760232\n",
              "min       21.000000\n",
              "25%       24.000000\n",
              "50%       29.000000\n",
              "75%       41.000000\n",
              "max       81.000000\n",
              "Name: Age, dtype: float64"
            ]
          },
          "metadata": {},
          "execution_count": 68
        }
      ]
    },
    {
      "cell_type": "markdown",
      "metadata": {
        "id": "plT6ET-cS8w0"
      },
      "source": [
        "####  **Observations** about the Age variable\n",
        "\n",
        "> 1. The median for Age is 29\n",
        "2. The maximum recorded for Age is 81 and the minimum is 21\n",
        "3. 75% of Age was above 41 and 25% was below 24"
      ]
    },
    {
      "cell_type": "markdown",
      "source": [
        "#### Distribution of outcome - create a pie chart"
      ],
      "metadata": {
        "id": "_0eEzTj4ToBS"
      }
    },
    {
      "cell_type": "code",
      "metadata": {
        "id": "wPEWGehNZAeE",
        "colab": {
          "base_uri": "https://localhost:8080/",
          "height": 248
        },
        "outputId": "bf1e585f-ab92-4960-cabf-75d72acad09f"
      },
      "source": [
        "labels = diabetes['Outcome'].value_counts().index.tolist()\n",
        "plt.pie(diabetes['Outcome'].value_counts(), labels=labels, autopct='%i%%');"
      ],
      "execution_count": 69,
      "outputs": [
        {
          "output_type": "display_data",
          "data": {
            "text/plain": [
              "<Figure size 432x288 with 1 Axes>"
            ],
            "image/png": "[encoded data removed]"
          },
          "metadata": {}
        }
      ]
    },
    {
      "cell_type": "markdown",
      "metadata": {
        "id": "_3RFBJyyZAeG"
      },
      "source": [
        "#### **Observations** about the Outcome variable\n",
        "\n",
        "> 65% of all patients had an outcome of 0 (not diabetic) and 34% had an outcome of 1 (diabetic)"
      ]
    },
    {
      "cell_type": "markdown",
      "metadata": {
        "id": "3lxiprbCZAeH"
      },
      "source": [
        "### 3.2 Research-Specific Analysis"
      ]
    },
    {
      "cell_type": "markdown",
      "metadata": {
        "id": "Va1fXT7BZAeH"
      },
      "source": [
        "Since our research question requires us to discover the factors that determine whether a patient has diabetes or not, we will make the 'Outcome' variable our main focus during this analysis."
      ]
    },
    {
      "cell_type": "markdown",
      "source": [
        "#### Box and bar plots of Pregnancies by Outcome"
      ],
      "metadata": {
        "id": "YNmIuUd7V7iA"
      }
    },
    {
      "cell_type": "code",
      "metadata": {
        "id": "Xx1ijV3fZAeI",
        "colab": {
          "base_uri": "https://localhost:8080/",
          "height": 350
        },
        "outputId": "f7458fc1-fb8a-40ae-c72a-cbbf3c04854d"
      },
      "source": [
        "fig, axes = plt.subplots(nrows = 1, ncols = 2, figsize = (12, 4))\n",
        "\n",
        "plt.subplot(1, 2, 1)\n",
        "sns.barplot(data = diabetes, x = 'Outcome', y = 'Pregnancies')\n",
        "plt.title('Bar plot of Outcome by Pregnancies')\n",
        "\n",
        "plt.subplot(1, 2, 2)\n",
        "sns.boxplot(diabetes.Pregnancies, diabetes.Outcome, orient = 'h')\n",
        "plt.title('Box plot of Pregnancies by Outcome')\n",
        "\n",
        "plt.show()"
      ],
      "execution_count": 70,
      "outputs": [
        {
          "output_type": "stream",
          "name": "stderr",
          "text": [
            "/usr/local/lib/python3.7/dist-packages/seaborn/_decorators.py:43: FutureWarning: Pass the following variables as keyword args: x, y. From version 0.12, the only valid positional argument will be `data`, and passing other arguments without an explicit keyword will result in an error or misinterpretation.\n",
            "  FutureWarning\n"
          ]
        },
        {
          "output_type": "display_data",
          "data": {
            "text/plain": [
              "<Figure size 864x288 with 2 Axes>"
            ],
            "image/png": "[encoded data removed]"
          },
          "metadata": {
            "needs_background": "light"
          }
        }
      ]
    },
    {
      "cell_type": "markdown",
      "metadata": {
        "id": "uY8bKfbsZAeN"
      },
      "source": [
        "**Observation**\n",
        "\n",
        "The number of diabetic patients is higher compared to that of non diabetic patients"
      ]
    },
    {
      "cell_type": "markdown",
      "source": [
        "#### Box and bar plots of Glucose by Outcome"
      ],
      "metadata": {
        "id": "aCorR2PiW9Ow"
      }
    },
    {
      "cell_type": "code",
      "metadata": {
        "id": "db8v0fvRZAeQ",
        "colab": {
          "base_uri": "https://localhost:8080/",
          "height": 350
        },
        "outputId": "ced6ec27-d39a-483f-aa43-5f538cf2f267"
      },
      "source": [
        "fig, axes = plt.subplots(nrows = 1, ncols = 2, figsize = (12, 4))\n",
        "\n",
        "plt.subplot(1, 2, 1)\n",
        "sns.barplot(data = diabetes, x = 'Outcome', y = 'Glucose')\n",
        "plt.title('Bar plot of Outcome by Glucose')\n",
        "\n",
        "plt.subplot(1, 2, 2)\n",
        "sns.boxplot(diabetes.Glucose, diabetes.Outcome, orient = 'h')\n",
        "plt.title('Box plot of Glucose by Outcome')\n",
        "\n",
        "plt.show()"
      ],
      "execution_count": 71,
      "outputs": [
        {
          "output_type": "stream",
          "name": "stderr",
          "text": [
            "/usr/local/lib/python3.7/dist-packages/seaborn/_decorators.py:43: FutureWarning: Pass the following variables as keyword args: x, y. From version 0.12, the only valid positional argument will be `data`, and passing other arguments without an explicit keyword will result in an error or misinterpretation.\n",
            "  FutureWarning\n"
          ]
        },
        {
          "output_type": "display_data",
          "data": {
            "text/plain": [
              "<Figure size 864x288 with 2 Axes>"
            ],
            "image/png": "[encoded data removed]"
          },
          "metadata": {
            "needs_background": "light"
          }
        }
      ]
    },
    {
      "cell_type": "markdown",
      "metadata": {
        "id": "xneiKQtLZAeT"
      },
      "source": [
        "**Observation**\n",
        "\n",
        "Diabetic patients have higher Glucose level compared to non diabetic patients"
      ]
    },
    {
      "cell_type": "markdown",
      "source": [
        "#### Box and bar plots of BloodPressure by Outcome"
      ],
      "metadata": {
        "id": "HyQH0p7LXh8E"
      }
    },
    {
      "cell_type": "code",
      "metadata": {
        "id": "RIdeopqYZAeb",
        "colab": {
          "base_uri": "https://localhost:8080/",
          "height": 350
        },
        "outputId": "b4fc8b0f-e1c9-4fc9-9ecd-75b7a8dca093"
      },
      "source": [
        "fig, axes = plt.subplots(nrows = 1, ncols = 2, figsize = (12, 4))\n",
        "\n",
        "plt.subplot(1, 2, 1)\n",
        "sns.barplot(data = diabetes, x = 'Outcome', y = 'BloodPressure')\n",
        "plt.title('Bar plot of Outcome by Blood Pressure')\n",
        "\n",
        "plt.subplot(1, 2, 2)\n",
        "sns.boxplot(diabetes.BloodPressure, diabetes.Outcome, orient = 'h')\n",
        "plt.title('Box plot of Blood Pressure by Outcome')\n",
        "\n",
        "plt.show()"
      ],
      "execution_count": 72,
      "outputs": [
        {
          "output_type": "stream",
          "name": "stderr",
          "text": [
            "/usr/local/lib/python3.7/dist-packages/seaborn/_decorators.py:43: FutureWarning: Pass the following variables as keyword args: x, y. From version 0.12, the only valid positional argument will be `data`, and passing other arguments without an explicit keyword will result in an error or misinterpretation.\n",
            "  FutureWarning\n"
          ]
        },
        {
          "output_type": "display_data",
          "data": {
            "text/plain": [
              "<Figure size 864x288 with 2 Axes>"
            ],
            "image/png": "[encoded data removed]"
          },
          "metadata": {
            "needs_background": "light"
          }
        }
      ]
    },
    {
      "cell_type": "markdown",
      "metadata": {
        "id": "7B1cClwXZAei"
      },
      "source": [
        "**Observation**\n",
        "\n",
        "Blood pressure for diabetic patients is slightly higher than that of non diabetic patients"
      ]
    },
    {
      "cell_type": "markdown",
      "source": [
        "#### Box and bar plots of SkinThickness by Outcome"
      ],
      "metadata": {
        "id": "_KJws1HdYHUC"
      }
    },
    {
      "cell_type": "code",
      "metadata": {
        "id": "YSN2Cy6tZAfV",
        "colab": {
          "base_uri": "https://localhost:8080/",
          "height": 350
        },
        "outputId": "5cd94e58-dbe6-4997-fa06-e486d0d1637e"
      },
      "source": [
        "fig, axes = plt.subplots(nrows = 1, ncols = 2, figsize = (12, 4))\n",
        "\n",
        "plt.subplot(1, 2, 1)\n",
        "sns.barplot(data = diabetes, x = 'Outcome', y = 'SkinThickness')\n",
        "plt.title('Bar plot of Outcome by Skin Thickness')\n",
        "\n",
        "plt.subplot(1, 2, 2)\n",
        "sns.boxplot(diabetes.SkinThickness, diabetes.Outcome, orient = 'h')\n",
        "plt.title('Box plot of Skin Thickness by Outcome')\n",
        "\n",
        "plt.show()"
      ],
      "execution_count": 73,
      "outputs": [
        {
          "output_type": "stream",
          "name": "stderr",
          "text": [
            "/usr/local/lib/python3.7/dist-packages/seaborn/_decorators.py:43: FutureWarning: Pass the following variables as keyword args: x, y. From version 0.12, the only valid positional argument will be `data`, and passing other arguments without an explicit keyword will result in an error or misinterpretation.\n",
            "  FutureWarning\n"
          ]
        },
        {
          "output_type": "display_data",
          "data": {
            "text/plain": [
              "<Figure size 864x288 with 2 Axes>"
            ],
            "image/png": "[encoded data removed]"
          },
          "metadata": {
            "needs_background": "light"
          }
        }
      ]
    },
    {
      "cell_type": "markdown",
      "metadata": {
        "id": "xUEyx7VVZAfd"
      },
      "source": [
        "**Observation**\n",
        "\n",
        "Skin thickness for diabetic patients is higher than that of non diabetic patients"
      ]
    },
    {
      "cell_type": "markdown",
      "source": [
        "#### Box and bar plots of Insulin by Outcome"
      ],
      "metadata": {
        "id": "lXhqy1m-Yird"
      }
    },
    {
      "cell_type": "code",
      "metadata": {
        "id": "TOTTE_rKZAge",
        "colab": {
          "base_uri": "https://localhost:8080/",
          "height": 350
        },
        "outputId": "e45d8b1b-0eae-4b9e-a402-63501b491a26"
      },
      "source": [
        "fig, axes = plt.subplots(nrows = 1, ncols = 2, figsize = (12, 4))\n",
        "\n",
        "plt.subplot(1, 2, 1)\n",
        "sns.barplot(data = diabetes, x = 'Outcome', y = 'Insulin')\n",
        "plt.title('Bar plot of Outcome by Insulin')\n",
        "\n",
        "plt.subplot(1, 2, 2)\n",
        "sns.boxplot(diabetes.Insulin, diabetes.Outcome, orient = 'h')\n",
        "plt.title('Box plot of Insulin by Outcome')\n",
        "\n",
        "plt.show()"
      ],
      "execution_count": 74,
      "outputs": [
        {
          "output_type": "stream",
          "name": "stderr",
          "text": [
            "/usr/local/lib/python3.7/dist-packages/seaborn/_decorators.py:43: FutureWarning: Pass the following variables as keyword args: x, y. From version 0.12, the only valid positional argument will be `data`, and passing other arguments without an explicit keyword will result in an error or misinterpretation.\n",
            "  FutureWarning\n"
          ]
        },
        {
          "output_type": "display_data",
          "data": {
            "text/plain": [
              "<Figure size 864x288 with 2 Axes>"
            ],
            "image/png": "[encoded data removed]"
          },
          "metadata": {
            "needs_background": "light"
          }
        }
      ]
    },
    {
      "cell_type": "markdown",
      "metadata": {
        "id": "LMptMt3aZAgs"
      },
      "source": [
        "**Observation**\n",
        "\n",
        "Insulin for diabetic patients is higher than that of non diabetic patients"
      ]
    },
    {
      "cell_type": "markdown",
      "source": [
        "#### Box and bar plots of BMI by Outcome"
      ],
      "metadata": {
        "id": "U1oHxJVLZGmM"
      }
    },
    {
      "cell_type": "code",
      "metadata": {
        "id": "KZcufW3vZAg4",
        "colab": {
          "base_uri": "https://localhost:8080/",
          "height": 350
        },
        "outputId": "21e7cc76-c581-4e9b-91bc-aa5e470c020d"
      },
      "source": [
        "fig, axes = plt.subplots(nrows = 1, ncols = 2, figsize = (12, 4))\n",
        "\n",
        "plt.subplot(1, 2, 1)\n",
        "sns.barplot(data = diabetes, x = 'Outcome', y = 'BMI')\n",
        "plt.title('Bar plot of Outcome by BMI')\n",
        "\n",
        "plt.subplot(1, 2, 2)\n",
        "sns.boxplot(diabetes.BMI, diabetes.Outcome, orient = 'h')\n",
        "plt.title('Box plot of BMI by Outcome')\n",
        "\n",
        "plt.show()"
      ],
      "execution_count": 75,
      "outputs": [
        {
          "output_type": "stream",
          "name": "stderr",
          "text": [
            "/usr/local/lib/python3.7/dist-packages/seaborn/_decorators.py:43: FutureWarning: Pass the following variables as keyword args: x, y. From version 0.12, the only valid positional argument will be `data`, and passing other arguments without an explicit keyword will result in an error or misinterpretation.\n",
            "  FutureWarning\n"
          ]
        },
        {
          "output_type": "display_data",
          "data": {
            "text/plain": [
              "<Figure size 864x288 with 2 Axes>"
            ],
            "image/png": "[encoded data removed]"
          },
          "metadata": {
            "needs_background": "light"
          }
        }
      ]
    },
    {
      "cell_type": "markdown",
      "metadata": {
        "id": "Wa86BMksZAg7"
      },
      "source": [
        "**Observation**\n",
        "\n",
        "BMI for diabetic patients is higher than that of non diabetic patients"
      ]
    },
    {
      "cell_type": "markdown",
      "source": [
        "#### Box and bar plots of DiabetesPedigreeFunction by Outcome"
      ],
      "metadata": {
        "id": "I8QNRv20ZYku"
      }
    },
    {
      "cell_type": "code",
      "metadata": {
        "id": "7yT9cCtNZAg_",
        "colab": {
          "base_uri": "https://localhost:8080/",
          "height": 350
        },
        "outputId": "42868341-0f84-420a-ad7d-54c691341af5"
      },
      "source": [
        "fig, axes = plt.subplots(nrows = 1, ncols = 2, figsize = (12, 4))\n",
        "\n",
        "plt.subplot(1, 2, 1)\n",
        "sns.barplot(data = diabetes, x = 'Outcome', y = 'DiabetesPedigreeFunction')\n",
        "plt.title('Bar plot of Outcome by DiabetesPedigreeFunction')\n",
        "\n",
        "plt.subplot(1, 2, 2)\n",
        "sns.boxplot(diabetes.DiabetesPedigreeFunction, diabetes.Outcome, orient = 'h')\n",
        "plt.title('Box plot of DiabetesPedigreeFunction by Outcome')\n",
        "\n",
        "plt.show()"
      ],
      "execution_count": 76,
      "outputs": [
        {
          "output_type": "stream",
          "name": "stderr",
          "text": [
            "/usr/local/lib/python3.7/dist-packages/seaborn/_decorators.py:43: FutureWarning: Pass the following variables as keyword args: x, y. From version 0.12, the only valid positional argument will be `data`, and passing other arguments without an explicit keyword will result in an error or misinterpretation.\n",
            "  FutureWarning\n"
          ]
        },
        {
          "output_type": "display_data",
          "data": {
            "text/plain": [
              "<Figure size 864x288 with 2 Axes>"
            ],
            "image/png": "[encoded data removed]"
          },
          "metadata": {
            "needs_background": "light"
          }
        }
      ]
    },
    {
      "cell_type": "markdown",
      "metadata": {
        "id": "_sZMWv-SZAhC"
      },
      "source": [
        "**Observation**\n",
        "\n",
        "DiabetesPedigreeFunction for diabetic patients is higher than that of non diabetic patients"
      ]
    },
    {
      "cell_type": "markdown",
      "source": [
        "#### Box and bar plots of Age by Outcome"
      ],
      "metadata": {
        "id": "34gbXpGJaLNb"
      }
    },
    {
      "cell_type": "code",
      "metadata": {
        "id": "S8eDoOzMZAhN",
        "colab": {
          "base_uri": "https://localhost:8080/",
          "height": 350
        },
        "outputId": "5805452b-9813-4743-965c-0c42a6afebf5"
      },
      "source": [
        "fig, axes = plt.subplots(nrows = 1, ncols = 2, figsize = (12, 4))\n",
        "\n",
        "plt.subplot(1, 2, 1)\n",
        "sns.barplot(data = diabetes, x = 'Outcome', y = 'Age')\n",
        "plt.title('Bar plot of Outcome by Age')\n",
        "\n",
        "plt.subplot(1, 2, 2)\n",
        "sns.boxplot(diabetes.Age, diabetes.Outcome, orient = 'h')\n",
        "plt.title('Box plot of Age by Outcome')\n",
        "\n",
        "plt.show()"
      ],
      "execution_count": 77,
      "outputs": [
        {
          "output_type": "stream",
          "name": "stderr",
          "text": [
            "/usr/local/lib/python3.7/dist-packages/seaborn/_decorators.py:43: FutureWarning: Pass the following variables as keyword args: x, y. From version 0.12, the only valid positional argument will be `data`, and passing other arguments without an explicit keyword will result in an error or misinterpretation.\n",
            "  FutureWarning\n"
          ]
        },
        {
          "output_type": "display_data",
          "data": {
            "text/plain": [
              "<Figure size 864x288 with 2 Axes>"
            ],
            "image/png": "[encoded data removed]"
          },
          "metadata": {
            "needs_background": "light"
          }
        }
      ]
    },
    {
      "cell_type": "markdown",
      "metadata": {
        "id": "E14nQPS5ZAhW"
      },
      "source": [
        "**Observation**\n",
        "\n",
        "Most diabetic patients are more than 30 years old\n",
        "\n",
        "Most non diabetic patients are below 30 years old"
      ]
    },
    {
      "cell_type": "markdown",
      "metadata": {
        "id": "vTbdjSrhVIiT"
      },
      "source": [
        "## <font color='#2F4F4F'>4. Summary of Findings</font>"
      ]
    },
    {
      "cell_type": "markdown",
      "metadata": {
        "id": "PdHyc8WYHlAG"
      },
      "source": [
        "Pregnancies,\tGlucose,\tSkinThickness,\tInsulin,\tBMI,\tDiabetesPedigreeFunction,\tand Age variables were dominant in diabetic patients.\n",
        "\n",
        "There didn't seem to be much difference in blood pressure for both diabetic and non diabetic patients."
      ]
    },
    {
      "cell_type": "markdown",
      "metadata": {
        "id": "noZz5YRQXKzi"
      },
      "source": [
        "## <font color='#2F4F4F'>5. Recommendations</font>"
      ]
    },
    {
      "cell_type": "markdown",
      "metadata": {
        "id": "wdMBFVe0XSgf"
      },
      "source": [
        "The management of the NGO Hospital should focus more on the factors that are dominant in diabetic patients in order to make predictions on whether a person has diabetics or not."
      ]
    },
    {
      "cell_type": "markdown",
      "metadata": {
        "id": "xrmHVMVsVS--"
      },
      "source": [
        "## <font color='#2F4F4F'>6. Challenging your Solution</font>"
      ]
    },
    {
      "cell_type": "markdown",
      "metadata": {
        "id": "HPQviDmNtta8"
      },
      "source": [
        "### a) Did we have the right data?\n",
        "\n",
        "Yes. We were able to do an extensive analysis to determine factors that are dominant in diabetic patients using the available data.\n"
      ]
    },
    {
      "cell_type": "markdown",
      "metadata": {
        "id": "CbQa-2odZAhb"
      },
      "source": [
        "### b) Did we have the right question?\n",
        "\n",
        "Perhaps the data analysis question should have been \"Which health factors are dominant in diabetic patients?\"\n",
        "\n"
      ]
    }
  ]
}